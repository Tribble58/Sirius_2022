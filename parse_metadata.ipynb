{
 "cells": [
  {
   "cell_type": "markdown",
   "metadata": {},
   "source": [
    "Данный ноутбук предназначен для парсинга папок data, в которых содержится информация по характеристикам кубанов:\n",
    "- пористости\n",
    "- профилям пористости\n",
    "- и т.д."
   ]
  },
  {
   "cell_type": "code",
   "execution_count": 132,
   "metadata": {},
   "outputs": [
    {
     "name": "stdout",
     "output_type": "stream",
     "text": [
      "WARNING: pip is being invoked by an old script wrapper. This will fail in a future version of pip.\n",
      "Please see https://github.com/pypa/pip/issues/5599 for advice on fixing the underlying issue.\n",
      "To avoid this problem you can invoke Python with '-m pip' instead of running pip directly.\n",
      "Requirement already satisfied: jsonpath_rw in /home/sirius/snap/jupyter/common/lib/python3.7/site-packages (1.4.0)\n",
      "Requirement already satisfied: decorator in /snap/jupyter/6/lib/python3.7/site-packages (from jsonpath_rw) (4.4.0)\n",
      "Requirement already satisfied: six in /snap/jupyter/6/lib/python3.7/site-packages (from jsonpath_rw) (1.12.0)\n",
      "Requirement already satisfied: ply in /home/sirius/snap/jupyter/common/lib/python3.7/site-packages (from jsonpath_rw) (3.11)\n",
      "WARNING: pip is being invoked by an old script wrapper. This will fail in a future version of pip.\n",
      "Please see https://github.com/pypa/pip/issues/5599 for advice on fixing the underlying issue.\n",
      "To avoid this problem you can invoke Python with '-m pip' instead of running pip directly.\n",
      "Requirement already satisfied: tqdm in /home/sirius/snap/jupyter/common/lib/python3.7/site-packages (4.64.0)\n"
     ]
    }
   ],
   "source": [
    "!pip install jsonpath_rw\n",
    "!pip install tqdm"
   ]
  },
  {
   "cell_type": "code",
   "execution_count": 97,
   "metadata": {},
   "outputs": [],
   "source": [
    "import pandas as pd\n",
    "import numpy as np\n",
    "\n",
    "import json\n",
    "from jsonpath_rw import jsonpath, parse\n",
    "\n",
    "from glob import glob\n",
    "from tqdm import tqdm"
   ]
  },
  {
   "cell_type": "code",
   "execution_count": 128,
   "metadata": {},
   "outputs": [
    {
     "data": {
      "text/plain": [
       "1246"
      ]
     },
     "execution_count": 128,
     "metadata": {},
     "output_type": "execute_result"
    }
   ],
   "source": [
    "filenames = glob('/home/sirius/Документы/Sirius_2022/**/*.json', recursive=True)\n",
    "len(filenames)"
   ]
  },
  {
   "cell_type": "code",
   "execution_count": 129,
   "metadata": {},
   "outputs": [
    {
     "name": "stderr",
     "output_type": "stream",
     "text": [
      "100%|██████████| 1246/1246 [00:00<00:00, 1523.62it/s]\n",
      "/home/sirius/snap/jupyter/common/lib/python3.7/site-packages/numpy/core/fromnumeric.py:3162: VisibleDeprecationWarning: Creating an ndarray from ragged nested sequences (which is a list-or-tuple of lists-or-tuples-or ndarrays with different lengths or shapes) is deprecated. If you meant to do this, you must specify 'dtype=object' when creating the ndarray.\n",
      "  return asarray(a).ndim\n"
     ]
    },
    {
     "data": {
      "text/plain": [
       "(1246, 30)"
      ]
     },
     "execution_count": 129,
     "metadata": {},
     "output_type": "execute_result"
    }
   ],
   "source": [
    "df_values = []\n",
    "for filename in tqdm(filenames):\n",
    "    path = filename.split('/')[-6:]\n",
    "    path = '/'.join(path)\n",
    "    with open(filename) as json_file:\n",
    "        data = json.load(json_file)\n",
    "        columns = []\n",
    "        values = []\n",
    "        values.append(path)\n",
    "        columns.append('path')\n",
    "        for col in data.keys():\n",
    "            axes_values = []\n",
    "            if col not in ['X', 'Y', 'Z']:\n",
    "                columns.append(col)\n",
    "                values.append(data[col])\n",
    "            else:\n",
    "                temp_json = data[col]\n",
    "                for sub_col in temp_json.keys():\n",
    "                    columns.append(col + '_' + sub_col)\n",
    "                    values.append(temp_json[sub_col])\n",
    "    df_values.append(values)\n",
    "    \n",
    "df = pd.DataFrame(columns=columns)\n",
    "df[columns] = df_values\n",
    "df.shape"
   ]
  },
  {
   "cell_type": "code",
   "execution_count": 130,
   "metadata": {},
   "outputs": [],
   "source": [
    "df.to_csv('/home/sirius/Документы/Sirius_2022/parameters_df.csv', index=False)"
   ]
  }
 ],
 "metadata": {
  "kernelspec": {
   "display_name": "Python 3",
   "language": "python",
   "name": "python3"
  },
  "language_info": {
   "codemirror_mode": {
    "name": "ipython",
    "version": 3
   },
   "file_extension": ".py",
   "mimetype": "text/x-python",
   "name": "python",
   "nbconvert_exporter": "python",
   "pygments_lexer": "ipython3",
   "version": "3.7.3"
  }
 },
 "nbformat": 4,
 "nbformat_minor": 2
}
